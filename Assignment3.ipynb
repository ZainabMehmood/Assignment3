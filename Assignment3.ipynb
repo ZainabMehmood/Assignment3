{
 "cells": [
  {
   "cell_type": "code",
   "execution_count": 1,
   "id": "156edb4b",
   "metadata": {},
   "outputs": [
    {
     "name": "stdout",
     "output_type": "stream",
     "text": [
      "3.8.8 (default, Apr 13 2021, 15:08:07) [MSC v.1916 32 bit (Intel)]\n"
     ]
    }
   ],
   "source": [
    "# write a python program to get the python version you are using\n",
    "import sys\n",
    "print(sys.version)"
   ]
  },
  {
   "cell_type": "code",
   "execution_count": 2,
   "id": "4375f59e",
   "metadata": {},
   "outputs": [
    {
     "name": "stdout",
     "output_type": "stream",
     "text": [
      "2021-10-24 17:47:13.107622\n"
     ]
    }
   ],
   "source": [
    "# write a python program to display the current date and time \n",
    "from datetime import datetime\n",
    "now = datetime.now()\n",
    "print(now)"
   ]
  },
  {
   "cell_type": "code",
   "execution_count": null,
   "id": "a1679b7e",
   "metadata": {},
   "outputs": [],
   "source": [
    "# write a python program which accepts the radius of a circle from the user and compute the area\n",
    "radius = int(input(\"Radius of the circle \\n\"))\n",
    "print(radius)"
   ]
  },
  {
   "cell_type": "code",
   "execution_count": null,
   "id": "f1a135c2",
   "metadata": {},
   "outputs": [],
   "source": [
    "# write a python programwhich accepts the user's first and last name and print the reverse order with space between them\n",
    "fname = input(\"Input Your First Name: \\n\")\n",
    "lname = input(\"Input Your Lat Name: \\n\")\n",
    "print (lname+ \" \"+fname)"
   ]
  },
  {
   "cell_type": "code",
   "execution_count": null,
   "id": "0c84f129",
   "metadata": {},
   "outputs": [],
   "source": [
    "# Write a python program which takes two inputs rom user and print them addition\n",
    "val_1 = int(input(\"Enter your first value \\n\"))\n",
    "val_2 = int(input(\"Enter your second value \\n\")) \n",
    "add = val_1 + val_2\n",
    "print(f\"The sum of two given values are = {add}\")"
   ]
  },
  {
   "cell_type": "code",
   "execution_count": null,
   "id": "35f08f3b",
   "metadata": {},
   "outputs": [],
   "source": [
    "# write a python program to sum all numeric items in a list?\n",
    "b []\n",
    "num = int(input(\"How many numbers: \"))\n",
    "for n in range(num):\n",
    "    numbers - int(input(\"Enter number:\"))\n",
    "    b.append(numbers)\n",
    "    print(\"Sum of elements in given list is :\" , sum(b))"
   ]
  },
  {
   "cell_type": "code",
   "execution_count": null,
   "id": "0424cf24",
   "metadata": {},
   "outputs": [],
   "source": [
    "# write a python program which print the length of a list?\n",
    "a = [1,4,76,98,4,99,43]\n",
    "print(len(a))"
   ]
  },
  {
   "cell_type": "code",
   "execution_count": null,
   "id": "6b676001",
   "metadata": {},
   "outputs": [],
   "source": []
  },
  {
   "cell_type": "code",
   "execution_count": null,
   "id": "e0a5eb0f",
   "metadata": {},
   "outputs": [],
   "source": []
  }
 ],
 "metadata": {
  "kernelspec": {
   "display_name": "Python 3",
   "language": "python",
   "name": "python3"
  },
  "language_info": {
   "codemirror_mode": {
    "name": "ipython",
    "version": 3
   },
   "file_extension": ".py",
   "mimetype": "text/x-python",
   "name": "python",
   "nbconvert_exporter": "python",
   "pygments_lexer": "ipython3",
   "version": "3.8.8"
  }
 },
 "nbformat": 4,
 "nbformat_minor": 5
}
